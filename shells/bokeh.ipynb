{
 "cells": [
  {
   "cell_type": "markdown",
   "metadata": {},
   "source": [
    "# Bokeh Notes"
   ]
  },
  {
   "cell_type": "code",
   "execution_count": 4,
   "metadata": {},
   "outputs": [],
   "source": [
    "import numpy as np\n",
    "from bokeh.plotting import figure, output_file, show, save\n",
    "\n",
    "def makeData(k=1):\n",
    "    ''' 生成数据 '''\n",
    "    x = np.linspace(0, 4*np.pi, 200)\n",
    "    y = np.sin(k*x)\n",
    "    return x, y\n",
    "    \n",
    "# 准备数据\n",
    "x, y = makeData()\n",
    "\n",
    "# 绘图\n",
    "p = figure(title=\"正弦波\", x_axis_label='x', y_axis_label='y')\n",
    "# p.line(x, y, legend_label=\"正弦波\", line_width=2)\n",
    "p.line(x, y,line_width=2)\n",
    "\n",
    "# 显示结果\n",
    "output_file(\"lines.html\")\n",
    "show(p) "
   ]
  },
  {
   "cell_type": "code",
   "execution_count": null,
   "metadata": {},
   "outputs": [],
   "source": []
  }
 ],
 "metadata": {
  "kernelspec": {
   "display_name": "Python 3",
   "language": "python",
   "name": "python3"
  },
  "language_info": {
   "codemirror_mode": {
    "name": "ipython",
    "version": 3
   },
   "file_extension": ".py",
   "mimetype": "text/x-python",
   "name": "python",
   "nbconvert_exporter": "python",
   "pygments_lexer": "ipython3",
   "version": "3.7.4"
  }
 },
 "nbformat": 4,
 "nbformat_minor": 4
}
